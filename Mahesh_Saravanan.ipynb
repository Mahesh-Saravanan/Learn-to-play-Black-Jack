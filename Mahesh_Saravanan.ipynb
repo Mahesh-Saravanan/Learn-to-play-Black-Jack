{
 "cells": [
  {
   "cell_type": "code",
   "execution_count": 1,
   "id": "25e4fb52",
   "metadata": {},
   "outputs": [],
   "source": [
    "import numpy as np\n",
    "import random\n",
    "import matplotlib.pyplot as plt\n",
    "import math\n",
    "from IPython.display import clear_output"
   ]
  },
  {
   "cell_type": "markdown",
   "id": "cf077d52",
   "metadata": {},
   "source": [
    "### Helper functions"
   ]
  },
  {
   "cell_type": "code",
   "execution_count": 2,
   "id": "00063ee2",
   "metadata": {},
   "outputs": [],
   "source": [
    "\n",
    "#resetting cards\n",
    "def reset_deck(n):\n",
    "    ind_card_set = [1.,2.,3.,4.,5.,6.,7.,8.,9.,10.,10.,10.,10.]\n",
    "    new_deck = ind_card_set*4*n\n",
    "    return new_deck\n",
    "\n",
    "#function to pick card from a deck\n",
    "def draw(deck):\n",
    "    pick = random.choice(deck)\n",
    "    deck.remove(pick)\n",
    "    return pick,deck\n",
    "\n",
    "#defines the single round of a player when the player chose to draw a card\n",
    "def single_round(player,deck):\n",
    "    pick,deck = draw(deck)\n",
    "    player.append(pick)\n",
    "    return player, deck\n",
    "#Check for ace and change the value 1 to 11 and viceversa according to condition\n",
    "def ace_check(player):\n",
    "    if (1 in player):\n",
    "        if (sum(player)+10 <= 21):\n",
    "            for i in range(len(player)):\n",
    "                if (player[i] == 1):\n",
    "                    player[i] = 11\n",
    "                    break\n",
    "    conv_player = player            \n",
    "    if (11 in player):\n",
    "        if (sum(player) > 21):\n",
    "            for i in range(len(player)):\n",
    "                if (player[i] == 11):\n",
    "                    player[i] = 1\n",
    "                    break \n",
    "    conv_player = player                \n",
    "    return conv_player\n",
    "#counting probablitiy of remaining cards in deck\n",
    "def prob(player,deck):   \n",
    "    high = 0\n",
    "    low = 0\n",
    "    for i in range(1,int(22 - sum(player))):\n",
    "        high+= deck.count(i)\n",
    "    high /= len(deck)    \n",
    "    for i in range(int(22 - sum(player)),21):\n",
    "        low+= deck.count(i)\n",
    "    low /= len(deck)  \n",
    "    return high,low"
   ]
  },
  {
   "cell_type": "markdown",
   "id": "3915c9c5",
   "metadata": {},
   "source": [
    "### Environment"
   ]
  },
  {
   "cell_type": "code",
   "execution_count": 3,
   "id": "dfdb45c2",
   "metadata": {},
   "outputs": [],
   "source": [
    "def initialize(deck):   \n",
    "    dealer =[]                 #clearing dealer hand\n",
    "    player =[]                 #clearing player hand\n",
    "    \n",
    "    d_card,deck = draw(deck) \n",
    "    dealer.append(d_card)      #providing dealer with one card\n",
    "    \n",
    "    p_card,deck = draw(deck)\n",
    "    player.append(p_card)      #providing dealer with one card\n",
    "    \n",
    "   # p_card,deck = draw(deck)\n",
    "   # player.append(p_card)      #providing dealer with one card\n",
    "    \n",
    "    game_over= False           #The results will be evaluated when it becomes true\n",
    "    reward = 0\n",
    "    state = int((((dealer[0])-1)*21)+sum(player)) #Position of current state in Q- table\n",
    "    return state,player,dealer,deck\n",
    "\n",
    "def one_step(player,dealer,deck,action,game_over,card_counting): \n",
    "    r = 1\n",
    "    if (action and sum(player)<21):                          #if action is 1 pick a card\n",
    "        player,deck = single_round(player,deck)\n",
    "        player = ace_check(player)                           #check for ace\n",
    "    if(card_counting):    \n",
    "        high,low = prob(player,deck)                         #check for the probablity of next card\n",
    "        \n",
    "        if(low<=high):\n",
    "            h = 0                                            #high chances of busting\n",
    "            \n",
    "        if(low>high):\n",
    "            h = 1                                            #low chances of busting\n",
    "        state = int((((dealer[0])-1)*21)+sum(player))*2 + int(h) #updating state from 31 x10 table to Q table(310)\n",
    "    else: \n",
    "        state = int((((dealer[0])-1)*21)+sum(player))\n",
    "    if (action == 0 and game_over == False or sum(player)>21):# Evaluating if the game is over\n",
    "        r = evaluate(dealer,player,deck)\n",
    "        game_over = True        \n",
    "    return state,r, game_over,player,dealer"
   ]
  },
  {
   "cell_type": "markdown",
   "id": "bd1c97b5",
   "metadata": {},
   "source": [
    "### Evaluation "
   ]
  },
  {
   "cell_type": "code",
   "execution_count": 4,
   "id": "4e0e010d",
   "metadata": {},
   "outputs": [],
   "source": [
    "def evaluate(dealer,player,deck):\n",
    "    #dealer round\n",
    "    while sum(dealer)<dealer_threshold:\n",
    "        dealer,deck = single_round(dealer,deck)# Drawing card for dealer till sum of dealer reaches dealer threshold\n",
    "  \n",
    "    dealers = sum(dealer)\n",
    "    players = sum(player)\n",
    "#decision making    \n",
    "    if(dealers > 21 and players > 21 ):\n",
    "        #print(\"Both busted\")\n",
    "        reward = 0\n",
    "        \n",
    "    elif(dealers > 21 and players <= 21 ):\n",
    "        #print(\"Player won and dealer busted\")\n",
    "        reward = 1\n",
    "        \n",
    "    elif(dealers <= 21 and players > 21 ):\n",
    "        #print(\"Dealer Won and player busted\")\n",
    "        reward = -1\n",
    "        \n",
    "    elif(dealers > players):\n",
    "        #print(\"Dealer won\")\n",
    "        reward = -1\n",
    "        \n",
    "    elif(dealers < players):\n",
    "        #print(\"Player won\")\n",
    "        reward =  1\n",
    "        \n",
    "    elif(dealers == players):\n",
    "        #print(\"Draw match\")\n",
    "        reward = 0    \n",
    "    return reward  "
   ]
  },
  {
   "cell_type": "markdown",
   "id": "711c87bc",
   "metadata": {},
   "source": [
    "### Plot functions "
   ]
  },
  {
   "cell_type": "code",
   "execution_count": 5,
   "id": "5bf77d50",
   "metadata": {},
   "outputs": [],
   "source": [
    "def plot_func(win,game):    \n",
    "    wins = []\n",
    "    loses =[]\n",
    "    split = int(game/50) #calculating winning percentage for every 50 games\n",
    "    start = 0\n",
    "    end = split\n",
    "    x1 =[]\n",
    "    for i in range(int(len(win)/split)):\n",
    "        c = win[start:end]\n",
    "        wins.append((c.count(1)/len(c))*100)\n",
    "        loses.append((c.count(0)/len(c))*100)\n",
    "        x1.append(start)\n",
    "        start+=split\n",
    "        end+=split\n",
    "    plt.plot(x1,wins)\n",
    "    plt.title('Win rate')\n",
    "    plt.xlabel(\"Number of Games\")\n",
    "    plt.ylabel(\"Win Percentage\")\n",
    "    plt.show()\n",
    "    #plt.plot(x1,loses)\n",
    "    #plt.title('Lose rate')\n",
    "    #plt.xlabel(\"Number of Games\")\n",
    "    #plt.ylabel(\"Lose Percentage\")\n",
    "    #plt.show()\n",
    "    plt.plot(ep)\n",
    "    plt.title('Epsilon decay')\n",
    "    plt.xlabel(\"Number of Games\")\n",
    "    plt.ylabel(\"Epsilon\")\n",
    "    plt.show()\n",
    "def strategy_func(q_table,card_counting):\n",
    "    if(card_counting):\n",
    "        plt.text(0.04,0.6,\"Policy garph is not available as the action at each time step \",fontsize=10, color=\"red\")\n",
    "        plt.text(0.15,0.5,\"differs with number of cards remaining in deck \",fontsize=10, color=\"red\")\n",
    "        \n",
    "        plt.show()\n",
    "    else:    \n",
    "        des =[]\n",
    "        for i in q_table:\n",
    "            des.append(np.argmax(i))\n",
    "        des = np.array(des[:210]).reshape(10,21)[:21] #Reshaping first 210 rows of Q table into 10x 21 decision table\n",
    "        entry = np.zeros((10,2))\n",
    "        for i in range(10):\n",
    "            entry[i][0] = (i+1)\n",
    "            entry[i][1] = (np.bincount(des[i])[1])\n",
    "        plt.step(entry.T[0], entry.T[1])\n",
    "        plt.yticks(range(1,22,2))\n",
    "        plt.xticks(range(1,10))\n",
    "        plt.title('Strategy')\n",
    "        plt.xlabel('Dealer card')\n",
    "        plt.ylabel('player card total')\n",
    "        plt.text(5,(entry.T[1][5]-4),'Hit',fontsize=15, color=\"green\")\n",
    "        plt.text(5,(21-1.5),'Stick',fontsize=15, color=\"red\")\n",
    "        plt.show()\n",
    "def decision_tab(q_table):\n",
    "    des =[]\n",
    "    for i in q_table:\n",
    "        des.append(np.argmax(i))\n",
    "    des = np.array(des[:210]).reshape(10,21)[:21] #Reshaping first 210 rows of Q table into 10x 21 decision table\n",
    "    print(\"Decision Table\")\n",
    "    print(des.T)        "
   ]
  },
  {
   "cell_type": "markdown",
   "id": "d25e5dbd",
   "metadata": {},
   "source": [
    "### Hyper Parameters"
   ]
  },
  {
   "cell_type": "code",
   "execution_count": 6,
   "id": "61b68af3",
   "metadata": {},
   "outputs": [],
   "source": [
    "dealer_threshold = 17          #dealer's sum limit at which the dealer should stop drawing card\n",
    "Total_deck = 8                 #total number of deck used\n",
    "games = 1000000                #Number of games\n",
    "alpha = 0.1                    #learning rate\n",
    "row = 0.1                      #discount rate\n",
    "epsilon =1                     #initial epsilon\n",
    "epsilon_limit = [1,0.01]       #upper and lower limit of epsilon\n",
    "\n",
    "#Result Visualization\n",
    "plot = True                    #plot winning rate and epsilon decay\n",
    "print_status = True            #print the final report of games played\n",
    "policy = True                  #plot strategy garph and table\n",
    "decision_table = True          #Live update of Q-table\n",
    "card_counting = False          #Card counting strategy"
   ]
  },
  {
   "cell_type": "markdown",
   "id": "3d40fdcc",
   "metadata": {},
   "source": [
    "### Markov Decision Process (MDP)"
   ]
  },
  {
   "cell_type": "code",
   "execution_count": 7,
   "id": "0115b6b2",
   "metadata": {},
   "outputs": [
    {
     "name": "stdout",
     "output_type": "stream",
     "text": [
      "Dealer's Threshold: 17\n",
      "card counting: False\n",
      "Played 1000000 games and won 40 % of it\n",
      "explored: 8 %\n",
      "exploited: 92 %\n"
     ]
    },
    {
     "data": {
      "image/png": "[encoded data removed]",
      "text/plain": [
       "<Figure size 432x288 with 1 Axes>"
      ]
     },
     "metadata": {
      "needs_background": "light"
     },
     "output_type": "display_data"
    },
    {
     "data": {
      "image/png": "[encoded data removed]",
      "text/plain": [
       "<Figure size 432x288 with 1 Axes>"
      ]
     },
     "metadata": {
      "needs_background": "light"
     },
     "output_type": "display_data"
    },
    {
     "data": {
      "image/png": "[encoded data removed]",
      "text/plain": [
       "<Figure size 432x288 with 1 Axes>"
      ]
     },
     "metadata": {
      "needs_background": "light"
     },
     "output_type": "display_data"
    },
    {
     "name": "stdout",
     "output_type": "stream",
     "text": [
      "Decision Table\n",
      "[[0 1 1 1 1 1 1 1 1 1]\n",
      " [1 1 1 1 1 1 1 1 1 1]\n",
      " [1 1 1 1 1 1 1 1 1 1]\n",
      " [1 1 1 1 1 1 1 1 1 1]\n",
      " [1 1 1 1 1 1 1 1 1 1]\n",
      " [1 1 1 1 1 1 1 1 1 1]\n",
      " [1 1 1 1 1 1 1 1 1 1]\n",
      " [1 1 1 1 1 1 1 1 1 1]\n",
      " [1 1 1 1 1 1 1 1 1 1]\n",
      " [1 1 1 1 1 1 1 1 1 1]\n",
      " [1 1 1 1 1 1 1 1 1 1]\n",
      " [1 1 1 1 1 1 1 1 1 1]\n",
      " [1 1 1 1 1 1 1 1 1 1]\n",
      " [1 1 1 1 1 1 1 1 1 1]\n",
      " [1 1 1 1 1 1 1 1 1 1]\n",
      " [1 1 1 1 1 1 1 1 1 1]\n",
      " [1 1 1 1 1 1 1 1 1 1]\n",
      " [1 1 1 1 1 0 0 1 1 1]\n",
      " [0 1 0 1 0 0 0 0 1 1]\n",
      " [0 0 0 0 0 0 0 0 0 1]\n",
      " [0 0 0 0 0 0 0 0 0 0]]\n"
     ]
    }
   ],
   "source": [
    "epsilon_decay_rate = (1/(games/10))# 0.00001    #rate of epsilon decay\n",
    "max_step_per_game = 11         #Maximum possible steps in a round (Player: [1,1,1,1,2,2,2,2,3,3,3])\n",
    "q_table = np.zeros((310,2))    # sum of player(21) * dealer faceup card possiblities(10) + busted state (10) [(21*10)+10 , 2 actions]    \n",
    "if(card_counting):\n",
    "    q_table = np.zeros((620,2))\n",
    "min_card = 15                  #minimum card required for 1 game\n",
    "win = []                       #List to store final rewards\n",
    "ep = []                        #list to store epsilon at each step\n",
    "exp =[]                        #list to store exploration and exploitation data\n",
    "deck = reset_deck(Total_deck)  #Resetting deck\n",
    "h1=[]\n",
    "for t in range(games):         # loop for each game    \n",
    "    if (len(deck)<min_card):   # reshuffle card when deck count goes below min_card\n",
    "        deck = reset_deck(Total_deck)\n",
    "    state,player,dealer,deck = initialize(deck) #clear dealer and player hand\n",
    "    game_over = False\n",
    "    \n",
    "    for Round in range(max_step_per_game):         #loops over eack round in 1 game\n",
    "        \n",
    "        epsilon_threshold = np.random.uniform(0,1) #random value to decide exploit or explore\n",
    "        if(epsilon_threshold>epsilon):\n",
    "            action = np.argmax(q_table[state,:])   #exploit\n",
    "            exp.append(0) \n",
    "        else:\n",
    "            action = np.random.choice([0,1])       #explore\n",
    "            exp.append(1)\n",
    "        \n",
    "        #playing one round \n",
    "        new_state,reward,game_over,player,dealer = one_step(player,dealer,deck,action,game_over,card_counting)#implementing action on the environment\n",
    "        \n",
    "        # updating Q table values using bellman equation \n",
    "        q_table[state , action] = q_table[state,action]* (1-alpha) + alpha * (reward + row*np.max(q_table[new_state,:]))\n",
    "        state = new_state\n",
    "        if (game_over == True):#check for game terminaton\n",
    "            break\n",
    "            \n",
    "            \n",
    "    #epsilon decay after each game        \n",
    "    epsilon = epsilon_limit[1]+(epsilon_limit[0] - epsilon_limit[1])* np.exp(-epsilon_decay_rate*t) \n",
    "    if (t%(games/1000) == 0):\n",
    "        clear_output(wait=True)\n",
    "        print(\"Playing\",games,\"games : \",int(((t+(games/50))/games)*100), '%')\n",
    "        if (decision_table and card_counting == False):decision_tab(q_table)\n",
    "    ep.append(epsilon)\n",
    "    win.append(reward)\n",
    "    \n",
    "#printing status    \n",
    "if (print_status):    \n",
    "    clear_output(wait=True)\n",
    "    print (\"Dealer's Threshold:\",dealer_threshold )\n",
    "    print(\"card counting:\",card_counting)\n",
    "    print(\"Played\", games, \"games and won\", int((win.count(1)/len(win))*100),'%', \"of it\")\n",
    "    print(\"explored:\",round((exp.count(1)/len(exp))*100),'%')\n",
    "    print(\"exploited:\",round((exp.count(0)/len(exp))*100),'%')\n",
    "\n",
    "# plotting win rate and epsilon decay    \n",
    "if(plot):\n",
    "    plot_func(win,games)               \n",
    "\n",
    "#Plotting policy    \n",
    "if(policy and plot):\n",
    "    strategy_func(q_table,card_counting)\n",
    "    if (card_counting == False):decision_tab(q_table)"
   ]
  }
 ],
 "metadata": {
  "kernelspec": {
   "display_name": "Python 3 (ipykernel)",
   "language": "python",
   "name": "python3"
  },
  "language_info": {
   "codemirror_mode": {
    "name": "ipython",
    "version": 3
   },
   "file_extension": ".py",
   "mimetype": "text/x-python",
   "name": "python",
   "nbconvert_exporter": "python",
   "pygments_lexer": "ipython3",
   "version": "3.10.4"
  }
 },
 "nbformat": 4,
 "nbformat_minor": 5
}
